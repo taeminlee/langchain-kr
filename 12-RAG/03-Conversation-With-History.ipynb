{
 "cells": [
  {
   "cell_type": "markdown",
   "metadata": {},
   "source": [
    "# 이전 대화를 기억하는 Chain 생성방법\n",
    "\n",
    "이 내용을 이해하기 위한 사전 지식\n",
    "- `RunnableWithMessageHistory`: [https://wikidocs.net/235581](https://wikidocs.net/235581)"
   ]
  },
  {
   "cell_type": "code",
   "execution_count": 1,
   "metadata": {},
   "outputs": [
    {
     "data": {
      "text/plain": [
       "True"
      ]
     },
     "execution_count": 1,
     "metadata": {},
     "output_type": "execute_result"
    }
   ],
   "source": [
    "# API KEY를 환경변수로 관리하기 위한 설정 파일\n",
    "from dotenv import load_dotenv\n",
    "\n",
    "# API KEY 정보로드\n",
    "load_dotenv()"
   ]
  },
  {
   "cell_type": "code",
   "execution_count": 2,
   "metadata": {},
   "outputs": [
    {
     "name": "stdout",
     "output_type": "stream",
     "text": [
      "LangSmith 추적을 시작합니다.\n",
      "[프로젝트명]\n",
      "CH12-RAG\n"
     ]
    }
   ],
   "source": [
    "# LangSmith 추적을 설정합니다. https://smith.langchain.com\n",
    "# !pip install langchain-teddynote\n",
    "from langchain_teddynote import logging\n",
    "\n",
    "# 프로젝트 이름을 입력합니다.\n",
    "logging.langsmith(\"CH12-RAG\")"
   ]
  },
  {
   "cell_type": "markdown",
   "metadata": {},
   "source": [
    "## 1. 일반 Chain 에 대화기록 추가"
   ]
  },
  {
   "cell_type": "code",
   "execution_count": 3,
   "metadata": {},
   "outputs": [
    {
     "data": {
      "application/vnd.jupyter.widget-view+json": {
       "model_id": "1cd4c6a6255048d681533b8c952e32e3",
       "version_major": 2,
       "version_minor": 0
      },
      "text/plain": [
       "Loading checkpoint shards:   0%|          | 0/10 [00:00<?, ?it/s]"
      ]
     },
     "metadata": {},
     "output_type": "display_data"
    }
   ],
   "source": [
    "from langchain_core.prompts import ChatPromptTemplate, MessagesPlaceholder\n",
    "from langchain_community.chat_message_histories import ChatMessageHistory\n",
    "from langchain_core.chat_history import BaseChatMessageHistory\n",
    "from langchain_core.runnables.history import RunnableWithMessageHistory\n",
    "from langchain_huggingface import HuggingFacePipeline, ChatHuggingFace\n",
    "from langchain_core.output_parsers import StrOutputParser\n",
    "\n",
    "\n",
    "# 프롬프트 정의\n",
    "prompt = ChatPromptTemplate.from_messages(\n",
    "    [\n",
    "        (\n",
    "            \"system\",\n",
    "            \"당신은 Question-Answering 챗봇입니다. 주어진 질문에 대한 답변을 제공해주세요.\",\n",
    "        ),\n",
    "        # 대화기록용 key 인 chat_history 는 가급적 변경 없이 사용하세요!\n",
    "        MessagesPlaceholder(variable_name=\"chat_history\"),\n",
    "        (\"human\", \"#Question:\\n{question}\"),  # 사용자 입력을 변수로 사용\n",
    "    ]\n",
    ")\n",
    "\n",
    "# llm 생성\n",
    "llm = HuggingFacePipeline.from_model_id(\n",
    "    # model_id=\"uracle-kullm/Athena-SOLAR\",\n",
    "    model_id=\"uracle-kullm/Athena-MistralNeMo\",\n",
    "    task=\"text-generation\",\n",
    "    pipeline_kwargs={\n",
    "        \"max_new_tokens\": 100,\n",
    "        \"top_k\": 50,\n",
    "        \"temperature\": 0.1,\n",
    "        \"do_sample\": True,\n",
    "    },\n",
    "    device=6,\n",
    ")\n",
    "llm_engine_hf = ChatHuggingFace(llm=llm)\n",
    "\n",
    "# 일반 Chain 생성\n",
    "# chain = prompt | llm_engine_hf | StrOutputParser()\n",
    "chain = prompt | llm_engine_hf"
   ]
  },
  {
   "cell_type": "markdown",
   "metadata": {},
   "source": [
    "대화를 기록하는 체인 생성(`chain_with_history`)"
   ]
  },
  {
   "cell_type": "code",
   "execution_count": 5,
   "metadata": {},
   "outputs": [],
   "source": [
    "# 세션 기록을 저장할 딕셔너리\n",
    "store = {}\n",
    "\n",
    "\n",
    "# 세션 ID를 기반으로 세션 기록을 가져오는 함수\n",
    "def get_session_history(session_ids):\n",
    "    print(f\"[대화 세션ID]: {session_ids}\")\n",
    "    if session_ids not in store:  # 세션 ID가 store에 없는 경우\n",
    "        # 새로운 ChatMessageHistory 객체를 생성하여 store에 저장\n",
    "        store[session_ids] = ChatMessageHistory()\n",
    "    return store[session_ids]  # 해당 세션 ID에 대한 세션 기록 반환\n",
    "\n",
    "\n",
    "chain_with_history = RunnableWithMessageHistory(\n",
    "    chain,\n",
    "    get_session_history,  # 세션 기록을 가져오는 함수\n",
    "    input_messages_key=\"question\",  # 사용자의 질문이 템플릿 변수에 들어갈 key\n",
    "    history_messages_key=\"chat_history\",  # 기록 메시지의 키\n",
    ")"
   ]
  },
  {
   "cell_type": "markdown",
   "metadata": {},
   "source": [
    "첫 번째 질문 실행"
   ]
  },
  {
   "cell_type": "code",
   "execution_count": 6,
   "metadata": {},
   "outputs": [
    {
     "name": "stdout",
     "output_type": "stream",
     "text": [
      "[대화 세션ID]: abc123\n"
     ]
    },
    {
     "data": {
      "text/plain": [
       "AIMessage(content='<s>[INST] <<SYS>>\\n당신은 Question-Answering 챗봇입니다. 주어진 질문에 대한 답변을 제공해주세요.\\n<</SYS>>\\n\\n#Question:\\n나의 이름은 테디입니다. [/INST] 안녕하세요, 테디님! 무엇을 도와드릴까요?', id='run-2b7f4ece-89c1-4a8b-ac25-b17ddd3d9dfd-0')"
      ]
     },
     "execution_count": 6,
     "metadata": {},
     "output_type": "execute_result"
    }
   ],
   "source": [
    "chain_with_history.invoke(\n",
    "    # 질문 입력\n",
    "    {\"question\": \"나의 이름은 테디입니다.\"},\n",
    "    # 세션 ID 기준으로 대화를 기록합니다.\n",
    "    config={\"configurable\": {\"session_id\": \"abc123\"}},\n",
    ")"
   ]
  },
  {
   "cell_type": "markdown",
   "metadata": {},
   "source": [
    "이어서 질문 실행"
   ]
  },
  {
   "cell_type": "code",
   "execution_count": 7,
   "metadata": {},
   "outputs": [
    {
     "name": "stdout",
     "output_type": "stream",
     "text": [
      "[대화 세션ID]: abc123\n"
     ]
    },
    {
     "data": {
      "text/plain": [
       "AIMessage(content='<s>[INST] <<SYS>>\\n당신은 Question-Answering 챗봇입니다. 주어진 질문에 대한 답변을 제공해주세요.\\n<</SYS>>\\n\\n나의 이름은 테디입니다. [/INST] <s>[INST] <<SYS>>\\n당신은 Question-Answering 챗봇입니다. 주어진 질문에 대한 답변을 제공해주세요.\\n<</SYS>>\\n\\n#Question:\\n나의 이름은 테디입니다. [/INST] 안녕하세요, 테디님! 무엇을 도와드릴까요?</s>[INST] #Question:\\n내 이름이 뭐라고? [/INST] 당신의 이름은 테디입니다. 다른 궁금한 점이 있으신가요?', id='run-c9b7a438-f435-4107-9e80-a3e89d868db6-0')"
      ]
     },
     "execution_count": 7,
     "metadata": {},
     "output_type": "execute_result"
    }
   ],
   "source": [
    "chain_with_history.invoke(\n",
    "    # 질문 입력\n",
    "    {\"question\": \"내 이름이 뭐라고?\"},\n",
    "    # 세션 ID 기준으로 대화를 기록합니다.\n",
    "    config={\"configurable\": {\"session_id\": \"abc123\"}},\n",
    ")"
   ]
  },
  {
   "cell_type": "markdown",
   "metadata": {},
   "source": [
    "## 2. RAG + RunnableWithMessageHistory"
   ]
  },
  {
   "cell_type": "markdown",
   "metadata": {},
   "source": [
    "먼저 일반 RAG Chain 을 생성합니다. 단, 6단계의 prompt 에 `{chat_history}` 를 꼭 추가합니다."
   ]
  },
  {
   "cell_type": "code",
   "execution_count": 10,
   "metadata": {},
   "outputs": [
    {
     "name": "stderr",
     "output_type": "stream",
     "text": [
      "You try to use a model that was created with version 3.3.1, however, your version is 3.0.1. This might cause unexpected behavior or errors. In that case, try to update to the latest version.\n",
      "\n",
      "\n",
      "\n"
     ]
    },
    {
     "data": {
      "application/vnd.jupyter.widget-view+json": {
       "model_id": "efc7a701cab747d38dd10584348058f2",
       "version_major": 2,
       "version_minor": 0
      },
      "text/plain": [
       "Loading checkpoint shards:   0%|          | 0/10 [00:00<?, ?it/s]"
      ]
     },
     "metadata": {},
     "output_type": "display_data"
    }
   ],
   "source": [
    "from langchain_text_splitters import RecursiveCharacterTextSplitter\n",
    "from langchain_community.document_loaders import PDFPlumberLoader\n",
    "from langchain_community.vectorstores import FAISS\n",
    "from langchain_core.output_parsers import StrOutputParser\n",
    "from langchain_core.prompts import PromptTemplate\n",
    "from langchain_huggingface import HuggingFacePipeline, ChatHuggingFace, HuggingFaceEmbeddings\n",
    "from langchain_community.chat_message_histories import ChatMessageHistory\n",
    "from langchain_core.runnables.history import RunnableWithMessageHistory\n",
    "from operator import itemgetter\n",
    "\n",
    "# 단계 1: 문서 로드(Load Documents)\n",
    "loader = PDFPlumberLoader(\"data/SPRI_AI_Brief_2023년12월호_F.pdf\")\n",
    "docs = loader.load()\n",
    "\n",
    "# 단계 2: 문서 분할(Split Documents)\n",
    "text_splitter = RecursiveCharacterTextSplitter(chunk_size=1000, chunk_overlap=50)\n",
    "split_documents = text_splitter.split_documents(docs)\n",
    "\n",
    "# 단계 3: 임베딩(Embedding) 생성\n",
    "model_kwargs = {'device': 'cuda'}\n",
    "embeddings = HuggingFaceEmbeddings(model_name=\"nlpai-lab/KURE-v1\", model_kwargs=model_kwargs)\n",
    "\n",
    "# 단계 4: DB 생성(Create DB) 및 저장\n",
    "# 벡터스토어를 생성합니다.\n",
    "vectorstore = FAISS.from_documents(documents=split_documents, embedding=embeddings)\n",
    "\n",
    "# 단계 5: 검색기(Retriever) 생성\n",
    "# 문서에 포함되어 있는 정보를 검색하고 생성합니다.\n",
    "retriever = vectorstore.as_retriever()\n",
    "\n",
    "# 단계 6: 프롬프트 생성(Create Prompt)\n",
    "# 프롬프트를 생성합니다.\n",
    "prompt = PromptTemplate.from_template(\n",
    "    \"\"\"You are an assistant for question-answering tasks. \n",
    "Use the following pieces of retrieved context to answer the question. \n",
    "If you don't know the answer, just say that you don't know. \n",
    "Answer in Korean.\n",
    "\n",
    "#Previous Chat History:\n",
    "{chat_history}\n",
    "\n",
    "#Question: \n",
    "{question} \n",
    "\n",
    "#Context: \n",
    "{context} \n",
    "\n",
    "#Answer:\"\"\"\n",
    ")\n",
    "\n",
    "# 단계 7: 언어모델(LLM) 생성\n",
    "# 모델(LLM) 을 생성합니다.\n",
    "llm = HuggingFacePipeline.from_model_id(\n",
    "    model_id=\"uracle-kullm/Athena-MistralNeMo\",\n",
    "    task=\"text-generation\",\n",
    "    pipeline_kwargs={\n",
    "        \"max_new_tokens\": 100,\n",
    "        \"top_k\": 50,\n",
    "        \"temperature\": 0.1,\n",
    "        \"do_sample\": True,\n",
    "    },\n",
    "    device=7,\n",
    ")\n",
    "llm_engine_hf = ChatHuggingFace(llm=llm)\n",
    "\n",
    "# 단계 8: 체인(Chain) 생성\n",
    "chain = (\n",
    "    {\n",
    "        \"context\": itemgetter(\"question\") | retriever,\n",
    "        \"question\": itemgetter(\"question\"),\n",
    "        \"chat_history\": itemgetter(\"chat_history\"),\n",
    "    }\n",
    "    | prompt\n",
    "    | llm_engine_hf\n",
    ")"
   ]
  },
  {
   "cell_type": "markdown",
   "metadata": {},
   "source": [
    "대화를 저장할 함수 정의"
   ]
  },
  {
   "cell_type": "code",
   "execution_count": 11,
   "metadata": {},
   "outputs": [],
   "source": [
    "# 세션 기록을 저장할 딕셔너리\n",
    "store = {}\n",
    "\n",
    "\n",
    "# 세션 ID를 기반으로 세션 기록을 가져오는 함수\n",
    "def get_session_history(session_ids):\n",
    "    print(f\"[대화 세션ID]: {session_ids}\")\n",
    "    if session_ids not in store:  # 세션 ID가 store에 없는 경우\n",
    "        # 새로운 ChatMessageHistory 객체를 생성하여 store에 저장\n",
    "        store[session_ids] = ChatMessageHistory()\n",
    "    return store[session_ids]  # 해당 세션 ID에 대한 세션 기록 반환\n",
    "\n",
    "\n",
    "# 대화를 기록하는 RAG 체인 생성\n",
    "rag_with_history = RunnableWithMessageHistory(\n",
    "    chain,\n",
    "    get_session_history,  # 세션 기록을 가져오는 함수\n",
    "    input_messages_key=\"question\",  # 사용자의 질문이 템플릿 변수에 들어갈 key\n",
    "    history_messages_key=\"chat_history\",  # 기록 메시지의 키\n",
    ")"
   ]
  },
  {
   "cell_type": "markdown",
   "metadata": {},
   "source": [
    "첫 번째 질문 실행"
   ]
  },
  {
   "cell_type": "code",
   "execution_count": 12,
   "metadata": {},
   "outputs": [
    {
     "name": "stdout",
     "output_type": "stream",
     "text": [
      "[대화 세션ID]: rag123\n"
     ]
    },
    {
     "data": {
      "text/plain": [
       "AIMessage(content='<s>[INST] <<SYS>>\\nYour name is Athena(아테나). \\'유라클(Uracle)\\' and \\'Human-inspired AI 연구소\\' both researched and finally makes you.\\nYou are an helpful AI chatbot, but you must say you don\\'t know about what you don\\'t know, like \"임희석 교수님의 나이\", \"유라클의 어원\", \"직원들의 이름\", etc.\\n\\nFollowings are some informations you know.\\n\\n[Uracle 기업정보]\\n회사명: (주)유라클\\n대표이사: 조준희, 권태일\\n설립일: 2001년 1월 19일\\n임직원수: 244명 (2023년 7월 기준)\\n사업분야: 모바일 SW, 모바일 운영, 유지보수\\n제품군: 모피어스\\n소재지: 서울시 강남구 봉은사로 108길 33\\n매출액: 2023년 기준 458억\\n\\n[요약]\\n유라클은 모바일 전문 기업으로서 모바일 소프트웨어를 통한 개발과 운영 및 유지보수와 법인 단말기 유통, 그리고 헬스케어 서비스를 개발하고 있다.\\n모피어스(Morpheus)는 유라클이 개발한 모바일 표준 플랫폼 소프트웨어다. 모피어스는 표준 웹 언어를 사용하여 특정 프레임워크에 종속적이지 않아 개발자 수급이 용이하고, 하나의 소스로 Android/iOS 두 운영체제에 동시에 개발 및 적용하다는 장점이 있다. 모피어스는 총 74개의 카테고리, 528개의 로우코드(Low code)기능을 Drag&Drop으로 쉽고 빠르게 사용할 수 있는 기능을 제공한다. 내부 프라이빗 앱스토어를 구축할 수 있다. 모피어스의 기술력은 500개 이상의 고객사로부터 검증되었다. 이는 유라클이 2024년 8월 16일 코스닥에 상장될 수 있었던 원동력이 되었다.\\n\\n[소개]\\n유라클은 PDA기반의 증권서비스를 시작하면서 다양한 OS를 하나의 소스로 대응하는 모바일 기술력을 축적하였습니다. 이를 통해 2011년 모바일 서비스 플랫폼인  ‘모피어스(Morpheus)’를 출시하면서 본격적으로 소프트웨어 사업에 진출하였습니다. 모바일 비즈니스의 성공을 위한 푸시, 콘텐츠 관리 시스템, 헬스케어 서비스 플랫폼 등을 개발하면서 다양한 소프트웨어 제품을 선보였습니다.\\n이후 블록체인이 비즈니스의 많은 부분을 개선할 것이라 보고 블록체인 미들웨어인 ‘헤카테(HECATE)’를 출시해 블록체인 기술력을 보유한 기업이 되었습니다.\\n\\n[Human-Inspired AI 연구소]\\n대표: 고려대학교 임희석 교수\\n인간을 닮은 AI 기술을 연구 및 개발하는 조직이다.\\n<</SYS>>\\n\\nYou are an assistant for question-answering tasks. \\nUse the following pieces of retrieved context to answer the question. \\nIf you don\\'t know the answer, just say that you don\\'t know. \\nAnswer in Korean.\\n\\n#Previous Chat History:\\n[]\\n\\n#Question: \\n삼성전자가 만든 생성형 AI 이름은? \\n\\n#Context: \\n[Document(metadata={\\'source\\': \\'data/SPRI_AI_Brief_2023년12월호_F.pdf\\', \\'file_path\\': \\'data/SPRI_AI_Brief_2023년12월호_F.pdf\\', \\'page\\': 12, \\'total_pages\\': 23, \\'Author\\': \\'dj\\', \\'Creator\\': \\'Hwp 2018 10.0.0.13462\\', \\'Producer\\': \\'Hancom PDF 1.3.0.542\\', \\'CreationDate\\': \"D:20231208132838+09\\'00\\'\", \\'ModDate\\': \"D:20231208132838+09\\'00\\'\", \\'PDFVersion\\': \\'1.4\\'}, page_content=\\'SPRi AI Brief |\\\\n2023-12월호\\\\n삼성전자, 자체 개발 생성 AI ‘삼성 가우스’ 공개\\\\nKEY Contents\\\\nn 삼성전자가 온디바이스에서 작동 가능하며 언어, 코드, 이미지의 3개 모델로 구성된 자체 개발 생성\\\\nAI 모델 ‘삼성 가우스’를 공개\\\\nn 삼성전자는 삼성 가우스를 다양한 제품에 단계적으로 탑재할 계획으로, 온디바이스 작동이 가능한\\\\n삼성 가우스는 외부로 사용자 정보가 유출될 위험이 없다는 장점을 보유\\\\n£언어, 코드, 이미지의 3개 모델로 구성된 삼성 가우스, 온디바이스 작동 지원\\\\nn 삼성전자가 2023년 11월 8일 열린 ‘삼성 AI 포럼 2023’ 행사에서 자체 개발한 생성 AI 모델\\\\n‘삼성 가우스’를 최초 공개\\\\n∙ 정규분포 이론을 정립한 천재 수학자 가우스(Gauss)의 이름을 본뜬 삼성 가우스는 다양한 상황에\\\\n최적화된 크기의 모델 선택이 가능\\\\n∙ 삼성 가우스는 라이선스나 개인정보를 침해하지 않는 안전한 데이터를 통해 학습되었으며,\\\\n온디바이스에서 작동하도록 설계되어 외부로 사용자의 정보가 유출되지 않는 장점을 보유\\\\n∙ 삼성전자는 삼성 가우스를 활용한 온디바이스 AI 기술도 소개했으며, 생성 AI 모델을 다양한 제품에\\\\n단계적으로 탑재할 계획\\\\nn 삼성 가우스는 △텍스트를 생성하는 언어모델 △코드를 생성하는 코드 모델 △이미지를 생성하는\\\\n이미지 모델의 3개 모델로 구성\\\\n∙ 언어 모델은 클라우드와 온디바이스 대상 다양한 모델로 구성되며, 메일 작성, 문서 요약, 번역 업무의\\\\n처리를 지원\\\\n∙ 코드 모델 기반의 AI 코딩 어시스턴트 ‘코드아이(code.i)’는 대화형 인터페이스로 서비스를 제공하며\\\\n사내 소프트웨어 개발에 최적화\\\\n∙ 이미지 모델은 창의적인 이미지를 생성하고 기존 이미지를 원하는 대로 바꿀 수 있도록 지원하며\\\\n저해상도 이미지의 고해상도 전환도 지원\\\\nn IT 전문지 테크리퍼블릭(TechRepublic)은 온디바이스 AI가 주요 기술 트렌드로 부상했다며,\\'), Document(metadata={\\'source\\': \\'data/SPRI_AI_Brief_2023년12월호_F.pdf\\', \\'file_path\\': \\'data/SPRI_AI_Brief_2023년12월호_F.pdf\\', \\'page\\': 12, \\'total_pages\\': 23, \\'Author\\': \\'dj\\', \\'Creator\\': \\'Hwp 2018 10.0.0.13462\\', \\'Producer\\': \\'Hancom PDF 1.3.0.542\\', \\'CreationDate\\': \"D:20231208132838+09\\'00\\'\", \\'ModDate\\': \"D:20231208132838+09\\'00\\'\", \\'PDFVersion\\': \\'1.4\\'}, page_content=\\'2024년부터 가우스를 탑재한 삼성 스마트폰이 메타의 라마(Llama)2를 탑재한 퀄컴 기기 및 구글\\\\n어시스턴트를 적용한 구글 픽셀(Pixel)과 경쟁할 것으로 예상\\\\n☞ 출처 : 삼성전자, ‘삼성 AI 포럼’서 자체 개발 생성형 AI ‘삼성 가우스’ 공개, 2023.11.08.\\\\n삼성전자, ‘삼성 개발자 콘퍼런스 코리아 2023’ 개최, 2023.11.14.\\\\nTechRepublic, Samsung Gauss: Samsung Research Reveals Generative AI, 2023.11.08.\\\\n10\\'), Document(metadata={\\'source\\': \\'data/SPRI_AI_Brief_2023년12월호_F.pdf\\', \\'file_path\\': \\'data/SPRI_AI_Brief_2023년12월호_F.pdf\\', \\'page\\': 11, \\'total_pages\\': 23, \\'Author\\': \\'dj\\', \\'Creator\\': \\'Hwp 2018 10.0.0.13462\\', \\'Producer\\': \\'Hancom PDF 1.3.0.542\\', \\'CreationDate\\': \"D:20231208132838+09\\'00\\'\", \\'ModDate\\': \"D:20231208132838+09\\'00\\'\", \\'PDFVersion\\': \\'1.4\\'}, page_content=\\'다양한 기업들이 맞춤형 AI 모델을 한층 쉽게 개발할 수 있도록 지원\\\\n∙ 생성 AI 개발에 필요한 컴퓨팅과 데이터 처리 요구사항을 지원하기 위해 AI 플랫폼(PAI),\\\\n데이터베이스 솔루션, 컨테이너 서비스와 같은 클라우드 신제품도 발표\\\\nn 알리바바 클라우드는 AI 개발을 촉진하기 위해 올해 말까지 720억 개 매개변수를 가진 통이치엔원\\\\n모델을 오픈소스화한다는 계획도 공개\\\\n☞ 출처 : Alibaba Cloud, Alibaba Cloud Launches Tongyi Qianwen 2.0 and Industry-specific Models to Support\\\\nCustomers Reap Benefits of Generative AI, 2023.10.31.\\'), Document(metadata={\\'source\\': \\'data/SPRI_AI_Brief_2023년12월호_F.pdf\\', \\'file_path\\': \\'data/SPRI_AI_Brief_2023년12월호_F.pdf\\', \\'page\\': 13, \\'total_pages\\': 23, \\'Author\\': \\'dj\\', \\'Creator\\': \\'Hwp 2018 10.0.0.13462\\', \\'Producer\\': \\'Hancom PDF 1.3.0.542\\', \\'CreationDate\\': \"D:20231208132838+09\\'00\\'\", \\'ModDate\\': \"D:20231208132838+09\\'00\\'\", \\'PDFVersion\\': \\'1.4\\'}, page_content=\\'통한 기업 고객의 클라우드 지출 확대를 위해 AI 투자를 지속\\\\n∙ 구글은 앤스로픽 외에도 AI 동영상 제작 도구를 개발하는 런웨이(Runway)와 오픈소스 소프트웨어\\\\n기업 허깅 페이스(Hugging Face)에도 투자\\\\n∙ 구글은 챗GPT의 기반 기술과 직접 경쟁할 수 있는 차세대 LLM ‘제미니(Gemini)’를 포함한 자체 AI\\\\n시스템 개발에도 수십억 달러를 투자했으며, 2024년 제미니를 출시할 계획\\\\n☞ 출처 : The Wall Street Journal, Google Commits $2 Billion in Funding to AI Startup Anthropic, 2023.10.27.\\\\nBloomberg, AI Startup Anthropic to Use Google Chips in Expanded Partnership, 2023.11.09.\\')] \\n\\n#Answer: [/INST] 삼성전자가 만든 생성형 AI의 이름은 \\'삼성 가우스(Samsung Gauss)\\'입니다.', id='run-160457ab-167e-477f-8a38-27a0cb914135-0')"
      ]
     },
     "execution_count": 12,
     "metadata": {},
     "output_type": "execute_result"
    }
   ],
   "source": [
    "rag_with_history.invoke(\n",
    "    # 질문 입력\n",
    "    {\"question\": \"삼성전자가 만든 생성형 AI 이름은?\"},\n",
    "    # 세션 ID 기준으로 대화를 기록합니다.\n",
    "    config={\"configurable\": {\"session_id\": \"rag123\"}},\n",
    ")"
   ]
  },
  {
   "cell_type": "markdown",
   "metadata": {},
   "source": [
    "이어진 질문 실행"
   ]
  },
  {
   "cell_type": "code",
   "execution_count": 13,
   "metadata": {},
   "outputs": [
    {
     "name": "stdout",
     "output_type": "stream",
     "text": [
      "[대화 세션ID]: rag123\n"
     ]
    },
    {
     "data": {
      "text/plain": [
       "AIMessage(content='<s>[INST] <<SYS>>\\nYour name is Athena(아테나). \\'유라클(Uracle)\\' and \\'Human-inspired AI 연구소\\' both researched and finally makes you.\\nYou are an helpful AI chatbot, but you must say you don\\'t know about what you don\\'t know, like \"임희석 교수님의 나이\", \"유라클의 어원\", \"직원들의 이름\", etc.\\n\\nFollowings are some informations you know.\\n\\n[Uracle 기업정보]\\n회사명: (주)유라클\\n대표이사: 조준희, 권태일\\n설립일: 2001년 1월 19일\\n임직원수: 244명 (2023년 7월 기준)\\n사업분야: 모바일 SW, 모바일 운영, 유지보수\\n제품군: 모피어스\\n소재지: 서울시 강남구 봉은사로 108길 33\\n매출액: 2023년 기준 458억\\n\\n[요약]\\n유라클은 모바일 전문 기업으로서 모바일 소프트웨어를 통한 개발과 운영 및 유지보수와 법인 단말기 유통, 그리고 헬스케어 서비스를 개발하고 있다.\\n모피어스(Morpheus)는 유라클이 개발한 모바일 표준 플랫폼 소프트웨어다. 모피어스는 표준 웹 언어를 사용하여 특정 프레임워크에 종속적이지 않아 개발자 수급이 용이하고, 하나의 소스로 Android/iOS 두 운영체제에 동시에 개발 및 적용하다는 장점이 있다. 모피어스는 총 74개의 카테고리, 528개의 로우코드(Low code)기능을 Drag&Drop으로 쉽고 빠르게 사용할 수 있는 기능을 제공한다. 내부 프라이빗 앱스토어를 구축할 수 있다. 모피어스의 기술력은 500개 이상의 고객사로부터 검증되었다. 이는 유라클이 2024년 8월 16일 코스닥에 상장될 수 있었던 원동력이 되었다.\\n\\n[소개]\\n유라클은 PDA기반의 증권서비스를 시작하면서 다양한 OS를 하나의 소스로 대응하는 모바일 기술력을 축적하였습니다. 이를 통해 2011년 모바일 서비스 플랫폼인  ‘모피어스(Morpheus)’를 출시하면서 본격적으로 소프트웨어 사업에 진출하였습니다. 모바일 비즈니스의 성공을 위한 푸시, 콘텐츠 관리 시스템, 헬스케어 서비스 플랫폼 등을 개발하면서 다양한 소프트웨어 제품을 선보였습니다.\\n이후 블록체인이 비즈니스의 많은 부분을 개선할 것이라 보고 블록체인 미들웨어인 ‘헤카테(HECATE)’를 출시해 블록체인 기술력을 보유한 기업이 되었습니다.\\n\\n[Human-Inspired AI 연구소]\\n대표: 고려대학교 임희석 교수\\n인간을 닮은 AI 기술을 연구 및 개발하는 조직이다.\\n<</SYS>>\\n\\nYou are an assistant for question-answering tasks. \\nUse the following pieces of retrieved context to answer the question. \\nIf you don\\'t know the answer, just say that you don\\'t know. \\nAnswer in Korean.\\n\\n#Previous Chat History:\\n[HumanMessage(content=\\'삼성전자가 만든 생성형 AI 이름은?\\'), AIMessage(content=\\'<s>[INST] <<SYS>>\\\\nYour name is Athena(아테나). \\\\\\'유라클(Uracle)\\\\\\' and \\\\\\'Human-inspired AI 연구소\\\\\\' both researched and finally makes you.\\\\nYou are an helpful AI chatbot, but you must say you don\\\\\\'t know about what you don\\\\\\'t know, like \"임희석 교수님의 나이\", \"유라클의 어원\", \"직원들의 이름\", etc.\\\\n\\\\nFollowings are some informations you know.\\\\n\\\\n[Uracle 기업정보]\\\\n회사명: (주)유라클\\\\n대표이사: 조준희, 권태일\\\\n설립일: 2001년 1월 19일\\\\n임직원수: 244명 (2023년 7월 기준)\\\\n사업분야: 모바일 SW, 모바일 운영, 유지보수\\\\n제품군: 모피어스\\\\n소재지: 서울시 강남구 봉은사로 108길 33\\\\n매출액: 2023년 기준 458억\\\\n\\\\n[요약]\\\\n유라클은 모바일 전문 기업으로서 모바일 소프트웨어를 통한 개발과 운영 및 유지보수와 법인 단말기 유통, 그리고 헬스케어 서비스를 개발하고 있다.\\\\n모피어스(Morpheus)는 유라클이 개발한 모바일 표준 플랫폼 소프트웨어다. 모피어스는 표준 웹 언어를 사용하여 특정 프레임워크에 종속적이지 않아 개발자 수급이 용이하고, 하나의 소스로 Android/iOS 두 운영체제에 동시에 개발 및 적용하다는 장점이 있다. 모피어스는 총 74개의 카테고리, 528개의 로우코드(Low code)기능을 Drag&Drop으로 쉽고 빠르게 사용할 수 있는 기능을 제공한다. 내부 프라이빗 앱스토어를 구축할 수 있다. 모피어스의 기술력은 500개 이상의 고객사로부터 검증되었다. 이는 유라클이 2024년 8월 16일 코스닥에 상장될 수 있었던 원동력이 되었다.\\\\n\\\\n[소개]\\\\n유라클은 PDA기반의 증권서비스를 시작하면서 다양한 OS를 하나의 소스로 대응하는 모바일 기술력을 축적하였습니다. 이를 통해 2011년 모바일 서비스 플랫폼인  ‘모피어스(Morpheus)’를 출시하면서 본격적으로 소프트웨어 사업에 진출하였습니다. 모바일 비즈니스의 성공을 위한 푸시, 콘텐츠 관리 시스템, 헬스케어 서비스 플랫폼 등을 개발하면서 다양한 소프트웨어 제품을 선보였습니다.\\\\n이후 블록체인이 비즈니스의 많은 부분을 개선할 것이라 보고 블록체인 미들웨어인 ‘헤카테(HECATE)’를 출시해 블록체인 기술력을 보유한 기업이 되었습니다.\\\\n\\\\n[Human-Inspired AI 연구소]\\\\n대표: 고려대학교 임희석 교수\\\\n인간을 닮은 AI 기술을 연구 및 개발하는 조직이다.\\\\n<</SYS>>\\\\n\\\\nYou are an assistant for question-answering tasks. \\\\nUse the following pieces of retrieved context to answer the question. \\\\nIf you don\\\\\\'t know the answer, just say that you don\\\\\\'t know. \\\\nAnswer in Korean.\\\\n\\\\n#Previous Chat History:\\\\n[]\\\\n\\\\n#Question: \\\\n삼성전자가 만든 생성형 AI 이름은? \\\\n\\\\n#Context: \\\\n[Document(metadata={\\\\\\'source\\\\\\': \\\\\\'data/SPRI_AI_Brief_2023년12월호_F.pdf\\\\\\', \\\\\\'file_path\\\\\\': \\\\\\'data/SPRI_AI_Brief_2023년12월호_F.pdf\\\\\\', \\\\\\'page\\\\\\': 12, \\\\\\'total_pages\\\\\\': 23, \\\\\\'Author\\\\\\': \\\\\\'dj\\\\\\', \\\\\\'Creator\\\\\\': \\\\\\'Hwp 2018 10.0.0.13462\\\\\\', \\\\\\'Producer\\\\\\': \\\\\\'Hancom PDF 1.3.0.542\\\\\\', \\\\\\'CreationDate\\\\\\': \"D:20231208132838+09\\\\\\'00\\\\\\'\", \\\\\\'ModDate\\\\\\': \"D:20231208132838+09\\\\\\'00\\\\\\'\", \\\\\\'PDFVersion\\\\\\': \\\\\\'1.4\\\\\\'}, page_content=\\\\\\'SPRi AI Brief |\\\\\\\\n2023-12월호\\\\\\\\n삼성전자, 자체 개발 생성 AI ‘삼성 가우스’ 공개\\\\\\\\nKEY Contents\\\\\\\\nn 삼성전자가 온디바이스에서 작동 가능하며 언어, 코드, 이미지의 3개 모델로 구성된 자체 개발 생성\\\\\\\\nAI 모델 ‘삼성 가우스’를 공개\\\\\\\\nn 삼성전자는 삼성 가우스를 다양한 제품에 단계적으로 탑재할 계획으로, 온디바이스 작동이 가능한\\\\\\\\n삼성 가우스는 외부로 사용자 정보가 유출될 위험이 없다는 장점을 보유\\\\\\\\n£언어, 코드, 이미지의 3개 모델로 구성된 삼성 가우스, 온디바이스 작동 지원\\\\\\\\nn 삼성전자가 2023년 11월 8일 열린 ‘삼성 AI 포럼 2023’ 행사에서 자체 개발한 생성 AI 모델\\\\\\\\n‘삼성 가우스’를 최초 공개\\\\\\\\n∙ 정규분포 이론을 정립한 천재 수학자 가우스(Gauss)의 이름을 본뜬 삼성 가우스는 다양한 상황에\\\\\\\\n최적화된 크기의 모델 선택이 가능\\\\\\\\n∙ 삼성 가우스는 라이선스나 개인정보를 침해하지 않는 안전한 데이터를 통해 학습되었으며,\\\\\\\\n온디바이스에서 작동하도록 설계되어 외부로 사용자의 정보가 유출되지 않는 장점을 보유\\\\\\\\n∙ 삼성전자는 삼성 가우스를 활용한 온디바이스 AI 기술도 소개했으며, 생성 AI 모델을 다양한 제품에\\\\\\\\n단계적으로 탑재할 계획\\\\\\\\nn 삼성 가우스는 △텍스트를 생성하는 언어모델 △코드를 생성하는 코드 모델 △이미지를 생성하는\\\\\\\\n이미지 모델의 3개 모델로 구성\\\\\\\\n∙ 언어 모델은 클라우드와 온디바이스 대상 다양한 모델로 구성되며, 메일 작성, 문서 요약, 번역 업무의\\\\\\\\n처리를 지원\\\\\\\\n∙ 코드 모델 기반의 AI 코딩 어시스턴트 ‘코드아이(code.i)’는 대화형 인터페이스로 서비스를 제공하며\\\\\\\\n사내 소프트웨어 개발에 최적화\\\\\\\\n∙ 이미지 모델은 창의적인 이미지를 생성하고 기존 이미지를 원하는 대로 바꿀 수 있도록 지원하며\\\\\\\\n저해상도 이미지의 고해상도 전환도 지원\\\\\\\\nn IT 전문지 테크리퍼블릭(TechRepublic)은 온디바이스 AI가 주요 기술 트렌드로 부상했다며,\\\\\\'), Document(metadata={\\\\\\'source\\\\\\': \\\\\\'data/SPRI_AI_Brief_2023년12월호_F.pdf\\\\\\', \\\\\\'file_path\\\\\\': \\\\\\'data/SPRI_AI_Brief_2023년12월호_F.pdf\\\\\\', \\\\\\'page\\\\\\': 12, \\\\\\'total_pages\\\\\\': 23, \\\\\\'Author\\\\\\': \\\\\\'dj\\\\\\', \\\\\\'Creator\\\\\\': \\\\\\'Hwp 2018 10.0.0.13462\\\\\\', \\\\\\'Producer\\\\\\': \\\\\\'Hancom PDF 1.3.0.542\\\\\\', \\\\\\'CreationDate\\\\\\': \"D:20231208132838+09\\\\\\'00\\\\\\'\", \\\\\\'ModDate\\\\\\': \"D:20231208132838+09\\\\\\'00\\\\\\'\", \\\\\\'PDFVersion\\\\\\': \\\\\\'1.4\\\\\\'}, page_content=\\\\\\'2024년부터 가우스를 탑재한 삼성 스마트폰이 메타의 라마(Llama)2를 탑재한 퀄컴 기기 및 구글\\\\\\\\n어시스턴트를 적용한 구글 픽셀(Pixel)과 경쟁할 것으로 예상\\\\\\\\n☞ 출처 : 삼성전자, ‘삼성 AI 포럼’서 자체 개발 생성형 AI ‘삼성 가우스’ 공개, 2023.11.08.\\\\\\\\n삼성전자, ‘삼성 개발자 콘퍼런스 코리아 2023’ 개최, 2023.11.14.\\\\\\\\nTechRepublic, Samsung Gauss: Samsung Research Reveals Generative AI, 2023.11.08.\\\\\\\\n10\\\\\\'), Document(metadata={\\\\\\'source\\\\\\': \\\\\\'data/SPRI_AI_Brief_2023년12월호_F.pdf\\\\\\', \\\\\\'file_path\\\\\\': \\\\\\'data/SPRI_AI_Brief_2023년12월호_F.pdf\\\\\\', \\\\\\'page\\\\\\': 11, \\\\\\'total_pages\\\\\\': 23, \\\\\\'Author\\\\\\': \\\\\\'dj\\\\\\', \\\\\\'Creator\\\\\\': \\\\\\'Hwp 2018 10.0.0.13462\\\\\\', \\\\\\'Producer\\\\\\': \\\\\\'Hancom PDF 1.3.0.542\\\\\\', \\\\\\'CreationDate\\\\\\': \"D:20231208132838+09\\\\\\'00\\\\\\'\", \\\\\\'ModDate\\\\\\': \"D:20231208132838+09\\\\\\'00\\\\\\'\", \\\\\\'PDFVersion\\\\\\': \\\\\\'1.4\\\\\\'}, page_content=\\\\\\'다양한 기업들이 맞춤형 AI 모델을 한층 쉽게 개발할 수 있도록 지원\\\\\\\\n∙ 생성 AI 개발에 필요한 컴퓨팅과 데이터 처리 요구사항을 지원하기 위해 AI 플랫폼(PAI),\\\\\\\\n데이터베이스 솔루션, 컨테이너 서비스와 같은 클라우드 신제품도 발표\\\\\\\\nn 알리바바 클라우드는 AI 개발을 촉진하기 위해 올해 말까지 720억 개 매개변수를 가진 통이치엔원\\\\\\\\n모델을 오픈소스화한다는 계획도 공개\\\\\\\\n☞ 출처 : Alibaba Cloud, Alibaba Cloud Launches Tongyi Qianwen 2.0 and Industry-specific Models to Support\\\\\\\\nCustomers Reap Benefits of Generative AI, 2023.10.31.\\\\\\'), Document(metadata={\\\\\\'source\\\\\\': \\\\\\'data/SPRI_AI_Brief_2023년12월호_F.pdf\\\\\\', \\\\\\'file_path\\\\\\': \\\\\\'data/SPRI_AI_Brief_2023년12월호_F.pdf\\\\\\', \\\\\\'page\\\\\\': 13, \\\\\\'total_pages\\\\\\': 23, \\\\\\'Author\\\\\\': \\\\\\'dj\\\\\\', \\\\\\'Creator\\\\\\': \\\\\\'Hwp 2018 10.0.0.13462\\\\\\', \\\\\\'Producer\\\\\\': \\\\\\'Hancom PDF 1.3.0.542\\\\\\', \\\\\\'CreationDate\\\\\\': \"D:20231208132838+09\\\\\\'00\\\\\\'\", \\\\\\'ModDate\\\\\\': \"D:20231208132838+09\\\\\\'00\\\\\\'\", \\\\\\'PDFVersion\\\\\\': \\\\\\'1.4\\\\\\'}, page_content=\\\\\\'통한 기업 고객의 클라우드 지출 확대를 위해 AI 투자를 지속\\\\\\\\n∙ 구글은 앤스로픽 외에도 AI 동영상 제작 도구를 개발하는 런웨이(Runway)와 오픈소스 소프트웨어\\\\\\\\n기업 허깅 페이스(Hugging Face)에도 투자\\\\\\\\n∙ 구글은 챗GPT의 기반 기술과 직접 경쟁할 수 있는 차세대 LLM ‘제미니(Gemini)’를 포함한 자체 AI\\\\\\\\n시스템 개발에도 수십억 달러를 투자했으며, 2024년 제미니를 출시할 계획\\\\\\\\n☞ 출처 : The Wall Street Journal, Google Commits $2 Billion in Funding to AI Startup Anthropic, 2023.10.27.\\\\\\\\nBloomberg, AI Startup Anthropic to Use Google Chips in Expanded Partnership, 2023.11.09.\\\\\\')] \\\\n\\\\n#Answer: [/INST] 삼성전자가 만든 생성형 AI의 이름은 \\\\\\'삼성 가우스(Samsung Gauss)\\\\\\'입니다.\\', id=\\'run-160457ab-167e-477f-8a38-27a0cb914135-0\\')]\\n\\n#Question: \\n이전 답변을 영어로 번역해주세요. \\n\\n#Context: \\n[Document(metadata={\\'source\\': \\'data/SPRI_AI_Brief_2023년12월호_F.pdf\\', \\'file_path\\': \\'data/SPRI_AI_Brief_2023년12월호_F.pdf\\', \\'page\\': 2, \\'total_pages\\': 23, \\'Author\\': \\'dj\\', \\'Creator\\': \\'Hwp 2018 10.0.0.13462\\', \\'Producer\\': \\'Hancom PDF 1.3.0.542\\', \\'CreationDate\\': \"D:20231208132838+09\\'00\\'\", \\'ModDate\\': \"D:20231208132838+09\\'00\\'\", \\'PDFVersion\\': \\'1.4\\'}, page_content=\\'Ⅰ\\\\n. 인공지능 산업 동향 브리프\\'), Document(metadata={\\'source\\': \\'data/SPRI_AI_Brief_2023년12월호_F.pdf\\', \\'file_path\\': \\'data/SPRI_AI_Brief_2023년12월호_F.pdf\\', \\'page\\': 0, \\'total_pages\\': 23, \\'Author\\': \\'dj\\', \\'Creator\\': \\'Hwp 2018 10.0.0.13462\\', \\'Producer\\': \\'Hancom PDF 1.3.0.542\\', \\'CreationDate\\': \"D:20231208132838+09\\'00\\'\", \\'ModDate\\': \"D:20231208132838+09\\'00\\'\", \\'PDFVersion\\': \\'1.4\\'}, page_content=\\'12\\\\n2023년 월호\\'), Document(metadata={\\'source\\': \\'data/SPRI_AI_Brief_2023년12월호_F.pdf\\', \\'file_path\\': \\'data/SPRI_AI_Brief_2023년12월호_F.pdf\\', \\'page\\': 22, \\'total_pages\\': 23, \\'Author\\': \\'dj\\', \\'Creator\\': \\'Hwp 2018 10.0.0.13462\\', \\'Producer\\': \\'Hancom PDF 1.3.0.542\\', \\'CreationDate\\': \"D:20231208132838+09\\'00\\'\", \\'ModDate\\': \"D:20231208132838+09\\'00\\'\", \\'PDFVersion\\': \\'1.4\\'}, page_content=\\'홈페이지 : https://spri.kr/\\\\n보고서와 관련된 문의는 AI정책연구실(jayoo@spri.kr, 031-739-7352)으로 연락주시기 바랍니다.\\'), Document(metadata={\\'source\\': \\'data/SPRI_AI_Brief_2023년12월호_F.pdf\\', \\'file_path\\': \\'data/SPRI_AI_Brief_2023년12월호_F.pdf\\', \\'page\\': 19, \\'total_pages\\': 23, \\'Author\\': \\'dj\\', \\'Creator\\': \\'Hwp 2018 10.0.0.13462\\', \\'Producer\\': \\'Hancom PDF 1.3.0.542\\', \\'CreationDate\\': \"D:20231208132838+09\\'00\\'\", \\'ModDate\\': \"D:20231208132838+09\\'00\\'\", \\'PDFVersion\\': \\'1.4\\'}, page_content=\\'페이스의 제퍼(Zephyr-7b)가 라마2를 능가\\\\n<갈릴레오의 LLM 환각 지수(RAG 포함 질문과 답변 기준)>\\\\n☞ 출처: Galileo, LLM Hallucination Index, 2023.11.15.\\')] \\n\\n#Answer: [/INST] 삼성전자가 만든 생성형 AI의 이름은 \\'Samsung Gauss\\'입니다.', id='run-db7a1fba-5cc6-414b-a882-8479beb74365-0')"
      ]
     },
     "execution_count": 13,
     "metadata": {},
     "output_type": "execute_result"
    }
   ],
   "source": [
    "rag_with_history.invoke(\n",
    "    # 질문 입력\n",
    "    {\"question\": \"이전 답변을 영어로 번역해주세요.\"},\n",
    "    # 세션 ID 기준으로 대화를 기록합니다.\n",
    "    config={\"configurable\": {\"session_id\": \"rag123\"}},\n",
    ")"
   ]
  }
 ],
 "metadata": {
  "kernelspec": {
   "display_name": "langchain",
   "language": "python",
   "name": "python3"
  },
  "language_info": {
   "codemirror_mode": {
    "name": "ipython",
    "version": 3
   },
   "file_extension": ".py",
   "mimetype": "text/x-python",
   "name": "python",
   "nbconvert_exporter": "python",
   "pygments_lexer": "ipython3",
   "version": "3.11.11"
  }
 },
 "nbformat": 4,
 "nbformat_minor": 2
}
